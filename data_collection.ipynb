{
 "cells": [
  {
   "cell_type": "code",
   "execution_count": 9,
   "id": "023ffe52-d610-417a-81a2-7e6bbd8ded77",
   "metadata": {},
   "outputs": [],
   "source": [
    "from data_collection_functions import *\n",
    "import pickle"
   ]
  },
  {
   "cell_type": "markdown",
   "id": "58caa95b-a617-4c13-bc66-ee6467c6e589",
   "metadata": {},
   "source": [
    "# Owned Games Data Collection"
   ]
  },
  {
   "cell_type": "code",
   "execution_count": 2,
   "id": "90974159-f04c-47cb-a11f-c61834120f25",
   "metadata": {},
   "outputs": [],
   "source": [
    "STEAM_ID = \"76561198059056914\"\n",
    "API_KEY = \"DB0D6CEC54B68C4782705EC10BF8A868\""
   ]
  },
  {
   "cell_type": "code",
   "execution_count": 3,
   "id": "9351c3c1-c685-471c-8def-6b64699154d1",
   "metadata": {},
   "outputs": [
    {
     "name": "stdout",
     "output_type": "stream",
     "text": [
      "The file 'agg_data.csv' was not found in the directory.\n"
     ]
    },
    {
     "name": "stderr",
     "output_type": "stream",
     "text": [
      "Sampling Users: 100%|█████████████████████████| 25/25 [00:09<00:00,  2.74user/s]"
     ]
    },
    {
     "name": "stdout",
     "output_type": "stream",
     "text": [
      "Script finished in 9.1212 seconds\n"
     ]
    },
    {
     "name": "stderr",
     "output_type": "stream",
     "text": [
      "\n"
     ]
    }
   ],
   "source": [
    "user_list, user_games_list = getSampleByDOS(api_key=API_KEY,seed=STEAM_ID,sample_size=25, k=20)"
   ]
  },
  {
   "cell_type": "code",
   "execution_count": 4,
   "id": "1f6b01bc-803d-47e2-87fd-313194e4c1e0",
   "metadata": {},
   "outputs": [
    {
     "name": "stdout",
     "output_type": "stream",
     "text": [
      "76561198084318972 {'appid': 4000, 'name': \"Garry's Mod\", 'playtime_forever': 2, 'img_icon_url': '4a6f25cfa2426445d0d9d6e233408de4d371ce8b', 'has_community_visible_stats': True}\n"
     ]
    }
   ],
   "source": [
    "print(user_list[0],user_games_list[0][0])"
   ]
  },
  {
   "cell_type": "code",
   "execution_count": 5,
   "id": "bf181a52-28f0-4478-a3f2-92104ad2e92d",
   "metadata": {},
   "outputs": [],
   "source": [
    "df = sample_to_dataframe(user_list, user_games_list)"
   ]
  },
  {
   "cell_type": "code",
   "execution_count": 6,
   "id": "56c88938-9827-431b-a807-3cca3064fe56",
   "metadata": {},
   "outputs": [],
   "source": [
    "save_to_agg_data(df)"
   ]
  },
  {
   "cell_type": "markdown",
   "id": "b863aa57-f319-4399-9785-0dc64aee8710",
   "metadata": {},
   "source": [
    "# Time Created Data Collection"
   ]
  },
  {
   "cell_type": "code",
   "execution_count": 7,
   "id": "cf184664-42a9-4c45-af32-8ae8d79c1ae4",
   "metadata": {},
   "outputs": [
    {
     "name": "stderr",
     "output_type": "stream",
     "text": [
      "/Users/velirist/Downloads/Notebooks/Recommender System (github)/data_collection_functions.py:141: UserWarning: batch_size exceeded 100. It has been set to the maximum limit of 100.\n",
      "  warnings.warn(\"batch_size exceeded 100. It has been set to the maximum limit of 100.\", UserWarning)\n"
     ]
    }
   ],
   "source": [
    "time_created_dict = getTimeCreated(API_KEY, batch_size = 150)"
   ]
  },
  {
   "cell_type": "code",
   "execution_count": 10,
   "id": "0a9d50e6-72b8-499a-81a8-4817504e26b8",
   "metadata": {},
   "outputs": [],
   "source": [
    "with open('timecreated.pkl', 'wb') as file:\n",
    "    pickle.dump(time_created_dict, file)"
   ]
  },
  {
   "cell_type": "code",
   "execution_count": null,
   "id": "cea13dd3-c1b2-444e-9b6a-8e55f693cb30",
   "metadata": {},
   "outputs": [],
   "source": []
  }
 ],
 "metadata": {
  "kernelspec": {
   "display_name": "Python 3 (ipykernel)",
   "language": "python",
   "name": "python3"
  },
  "language_info": {
   "codemirror_mode": {
    "name": "ipython",
    "version": 3
   },
   "file_extension": ".py",
   "mimetype": "text/x-python",
   "name": "python",
   "nbconvert_exporter": "python",
   "pygments_lexer": "ipython3",
   "version": "3.12.2"
  }
 },
 "nbformat": 4,
 "nbformat_minor": 5
}
