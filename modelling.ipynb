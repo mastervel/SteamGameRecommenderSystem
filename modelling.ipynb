{
 "cells": [
  {
   "cell_type": "markdown",
   "id": "7bb5d4b9-945e-4e44-beef-f752a7d6edd0",
   "metadata": {},
   "source": [
    "# Steam Game Recommender System\n",
    "## Methodology\n",
    "### 1. Problem Definition\n",
    "\n",
    "The goal of the Steam Game Recommender System is to predict the playtime of users for different games based on their historical playtime data. The system leverages a collaborative filtering approach using matrix factorization with Singular Value Decomposition (SVD) and incorporates user and game biases to enhance prediction accuracy.\n",
    "\n",
    "### 2. Data Representation\n",
    "\n",
    "Let the playtime matrix $( R )$ represent the hours played by users for various games. Each entry $( r_{u,i} )$ in the matrix corresponds to the playtime of user $( u )$ on game $( i )$. Missing entries indicate games a user has not played.\n",
    "\n",
    "### 3. Normalization\n",
    "\n",
    "To account for user-specific playtime habits and registration duration, we normalize the playtime matrix \\( R \\) before applying matrix factorization. This ensures that users with longer registration periods do not disproportionately influence the model.\n",
    "\n",
    "Given:\n",
    "\n",
    "- $ R $ is the original playtime matrix (in hours).\n",
    "- $ t_u $ represents the time since user $ u $ registered.\n",
    "- $ \\epsilon $ is a small constant to prevent division by zero.\n",
    "\n",
    "#### Normalization Process\n",
    "\n",
    "1. **Convert playtime from hours to minutes**:  \n",
    "   $$\n",
    "   R / 60\n",
    "   $$\n",
    "   \n",
    "2. **Normalize by registration duration**:  \n",
    "   Each user's playtime is divided by the time since their registration:\n",
    "\n",
    "   $$\n",
    "   \\tilde{r}_{u,i} = \\frac{r_{u,i}}{60 \\times t_u}\n",
    "   $$\n",
    "\n",
    "3. **Apply the natural logarithm**:  \n",
    "   To reduce the impact of extreme values and stabilize variance, we take the natural logarithm of the normalized playtime:\n",
    "\n",
    "   $$\n",
    "   \\tilde{r}_{u,i} = \\log \\left( \\frac{r_{u,i}}{60 \\times t_u} + \\epsilon \\right)\n",
    "   $$\n",
    "\n",
    "This transformation produces a normalized playtime matrix where values reflect playtime relative to the user's registration period, mitigating biases from longer account ages.\n",
    "\n",
    "### 3. Matrix Factorization with Biases\n",
    "\n",
    "We model the observed playtime using the following decomposition:\n",
    "$$\n",
    "\\hat{r}_{u,i} = \\mu + b_u + b_i + \\mathbf{p}_u^T \\mathbf{q}_i\n",
    "$$\n",
    "Where:\n",
    "- $ \\hat{r}_{u,i} $ is the predicted playtime.\n",
    "- $ mu $ is the global mean playtime.\n",
    "- $ b_u $ is the user bias.\n",
    "- $ b_i $ is the game bias.\n",
    "- $ \\mathbf{p}_u $ and $ \\mathbf{q}_i $ are the latent factor vectors for user $ u $ and game $ i $ respectively.\n",
    "\n",
    "### 4. Loss Function\n",
    "\n",
    "We minimize the regularized squared error loss function to learn the parameters:\n",
    "\n",
    "$$\n",
    "L = \\sum_{(u,i) \\in \\mathcal{K}} (r_{u,i} - \\hat{r}_{u,i})^2 + \\lambda (||\\mathbf{p}_u||^2 + ||\\mathbf{q}_i||^2 + b_u^2 + b_i^2)\n",
    "$$\n",
    "\n",
    "Where:\n",
    "- $ \\mathcal{K} $ is the set of known playtime observations.\n",
    "- $ \\lambda $ is the regularization parameter to prevent overfitting.\n",
    "\n",
    "### 5. Singular Value Decomposition (SVD) Initialization\n",
    "\n",
    "We initialize the latent matrices $ P $ and $ Q $ using the truncated SVD of the playtime matrix $ R $:\n",
    "\n",
    "$$\n",
    "R \\approx U \\Sigma V^T\n",
    "$$\n",
    "\n",
    "Where:\n",
    "- $ U $ is the user matrix.\n",
    "- $ \\Sigma $ is a diagonal matrix of singular values.\n",
    "- $ V $ is the game matrix.\n",
    "\n",
    "We set $ P = U \\sqrt{\\Sigma} $ and $ Q = V \\sqrt{\\Sigma} $ for initialization.\n",
    "\n",
    "### 6. Stochastic Gradient Descent (SGD) Optimization\n",
    "\n",
    "We optimize the parameters using Stochastic Gradient Descent. The update rules are as follows:\n",
    "\n",
    "1. For each observed $ (u, i) $ in $ \\mathcal{K} $:\n",
    "\n",
    "$$\n",
    "e_{u,i} = r_{u,i} - \\hat{r}_{u,i}\n",
    "$$\n",
    "\n",
    "2. Update biases:\n",
    "\n",
    "$$\n",
    " b_u \\leftarrow b_u + \\eta (e_{u,i} - \\lambda b_u)\n",
    "$$\n",
    "\n",
    "$$\n",
    " b_i \\leftarrow b_i + \\eta (e_{u,i} - \\lambda b_i)\n",
    "$$\n",
    "\n",
    "3. Update latent factors:\n",
    "\n",
    "$$\n",
    " \\mathbf{p}_u \\leftarrow \\mathbf{p}_u + \\eta (e_{u,i} \\mathbf{q}_i - \\lambda \\mathbf{p}_u)\n",
    "$$\n",
    "\n",
    "$$\n",
    " \\mathbf{q}_i \\leftarrow \\mathbf{q}_i + \\eta (e_{u,i} \\mathbf{p}_u - \\lambda \\mathbf{q}_i)\n",
    "$$\n",
    "\n",
    "Where:\n",
    "- $ \\eta $ is the learning rate.\n",
    "\n",
    "### 7. Evaluation\n",
    "\n",
    "The performance of the model is evaluated using Root Mean Square Error (RMSE):\n",
    "\n",
    "$$\n",
    "\\text{RMSE} = \\sqrt{\\frac{1}{|\\mathcal{K}|} \\sum_{(u,i) \\in \\mathcal{K}} (r_{u,i} - \\hat{r}_{u,i})^2}\n",
    "$$\n",
    "\n",
    "Lower RMSE values indicate better model performance."
   ]
  },
  {
   "cell_type": "markdown",
   "id": "6644e185-3e5f-4fad-bb9d-dfc81944b925",
   "metadata": {},
   "source": [
    "## Sample Code\n",
    "\n",
    "What follows is a sample usage of the aforementioned methodology on a impractically small sample of users. The $P$ and $Q$ matrices predicted in the sample are not the same as those found in `P_matrix.npy` and `Q_matrix.npy`. The model specification for these matrices are using a 4 latent factors over approximately 11,000 users over the top 5,000 games played in the sample. If you would like to run recommendation using my trained model go to the end."
   ]
  },
  {
   "cell_type": "code",
   "execution_count": 1,
   "id": "19e55405-8722-4a31-8505-d3dd2be4e4ba",
   "metadata": {},
   "outputs": [],
   "source": [
    "from model_functions import * \n",
    "import pandas as pd\n",
    "import gc\n",
    "import pickle\n",
    "import matplotlib.pyplot as plt\n",
    "import seaborn as sns"
   ]
  },
  {
   "cell_type": "markdown",
   "id": "093ffdae-f26a-4feb-9e5a-478298efe191",
   "metadata": {},
   "source": [
    "## Data Import and Filtering"
   ]
  },
  {
   "cell_type": "code",
   "execution_count": 2,
   "id": "d0170707-148a-4b2e-8a2f-ba07f3186b40",
   "metadata": {},
   "outputs": [
    {
     "data": {
      "text/plain": [
       "(1784, 9)"
      ]
     },
     "execution_count": 2,
     "metadata": {},
     "output_type": "execute_result"
    }
   ],
   "source": [
    "agg_df = pd.read_csv(\"agg_data.csv\")\n",
    "agg_df.shape"
   ]
  },
  {
   "cell_type": "code",
   "execution_count": 3,
   "id": "b6c84747-ca88-4c6a-b0e2-671a9776949b",
   "metadata": {},
   "outputs": [],
   "source": [
    "# Generate a dict linking appid to names (this will be used towards the end)\n",
    "appid_to_name = agg_df.set_index(\"appid\")[\"name\"].to_dict()"
   ]
  },
  {
   "cell_type": "code",
   "execution_count": 4,
   "id": "b6b2e1e5-0d9e-4b28-b51c-4025c5524bc9",
   "metadata": {},
   "outputs": [],
   "source": [
    "# Restructure the data in the form needed for construction matrix R\n",
    "matrix_df = agg_df.pivot_table(index='user_id',columns='appid',values='playtime_forever')"
   ]
  },
  {
   "cell_type": "code",
   "execution_count": 5,
   "id": "446296d0-1eb9-47bd-947e-5f533b0aadf3",
   "metadata": {},
   "outputs": [
    {
     "data": {
      "text/plain": [
       "0"
      ]
     },
     "execution_count": 5,
     "metadata": {},
     "output_type": "execute_result"
    }
   ],
   "source": [
    "# When agg_df is super large it is worth freeing up memory\n",
    "del agg_df\n",
    "gc.collect()"
   ]
  },
  {
   "cell_type": "markdown",
   "id": "2fcc90f4-da6f-48b1-a090-6f2a65c8affd",
   "metadata": {},
   "source": [
    "Although the data collection phase (from function getSampleByDOS) should handle zero playtime users, this is to ensure we do not have uninformative users. "
   ]
  },
  {
   "cell_type": "code",
   "execution_count": 6,
   "id": "f993a146-4534-452b-aa92-94f57aea8ae4",
   "metadata": {},
   "outputs": [
    {
     "data": {
      "text/plain": [
       "0"
      ]
     },
     "execution_count": 6,
     "metadata": {},
     "output_type": "execute_result"
    }
   ],
   "source": [
    "# Drop rows where all values are either NaN or 0, \n",
    "mask = (matrix_df.fillna(0) == 0).all(axis=1)\n",
    "matrix_df = matrix_df.loc[~mask]\n",
    "\n",
    "del mask\n",
    "gc.collect()"
   ]
  },
  {
   "cell_type": "code",
   "execution_count": 7,
   "id": "0c7cf117-ba63-45c6-8042-e5588f3a7669",
   "metadata": {},
   "outputs": [],
   "source": [
    "# Keeping only the top 5,000 games owned in the data\n",
    "appids_to_drop = list(matrix_df.isna().sum().sort_values()[100:].index)"
   ]
  },
  {
   "cell_type": "code",
   "execution_count": 8,
   "id": "52efa47e-e80e-49ab-85c3-ee7819d2b87b",
   "metadata": {},
   "outputs": [],
   "source": [
    "matrix_df = matrix_df.drop(columns = appids_to_drop)"
   ]
  },
  {
   "cell_type": "code",
   "execution_count": 9,
   "id": "3d24e085-942b-4bc2-9eea-6afbec2db101",
   "metadata": {},
   "outputs": [
    {
     "data": {
      "text/plain": [
       "(25, 100)"
      ]
     },
     "execution_count": 9,
     "metadata": {},
     "output_type": "execute_result"
    }
   ],
   "source": [
    "matrix_df.shape"
   ]
  },
  {
   "cell_type": "markdown",
   "id": "20da24e4-b5c5-4c9f-b7f0-e2b847a92846",
   "metadata": {},
   "source": [
    "### Importing User Time Created Data"
   ]
  },
  {
   "cell_type": "code",
   "execution_count": 10,
   "id": "35f0584f-b096-48d4-8561-c007d56d97f1",
   "metadata": {},
   "outputs": [],
   "source": [
    "# Import game release dates data\n",
    "with open('timecreated.pkl', 'rb') as file:\n",
    "    timecreated_dict = pickle.load(file)"
   ]
  },
  {
   "cell_type": "code",
   "execution_count": 11,
   "id": "1e14d476-d94e-426f-8f63-2d71e08d3e40",
   "metadata": {},
   "outputs": [
    {
     "name": "stdout",
     "output_type": "stream",
     "text": [
      "25 25\n"
     ]
    }
   ],
   "source": [
    "# Checking to see if the number of users in the time created data matches the owned games data\n",
    "print(len(set(matrix_df.index)), len(set(timecreated_dict.keys())))"
   ]
  },
  {
   "cell_type": "code",
   "execution_count": 12,
   "id": "c0702be1-f669-4b15-91fc-3559f0635b74",
   "metadata": {},
   "outputs": [
    {
     "data": {
      "text/plain": [
       "25"
      ]
     },
     "execution_count": 12,
     "metadata": {},
     "output_type": "execute_result"
    }
   ],
   "source": [
    "# Checking to make sure user_ids line up between time created dict and matrix_df \n",
    "users_w_timecreated = set(matrix_df.index) & set(map(int,timecreated_dict.keys()))\n",
    "len(users_w_timecreated)"
   ]
  },
  {
   "cell_type": "code",
   "execution_count": 13,
   "id": "ea9f7606-12c2-407d-8dcc-1b5b154224d5",
   "metadata": {},
   "outputs": [
    {
     "data": {
      "text/plain": [
       "(25, 100)"
      ]
     },
     "execution_count": 13,
     "metadata": {},
     "output_type": "execute_result"
    }
   ],
   "source": [
    "matrix_df = matrix_df.loc[list(users_w_timecreated)]\n",
    "matrix_df.shape"
   ]
  },
  {
   "cell_type": "markdown",
   "id": "50e024a0-7cc1-489a-b01c-3486616cb449",
   "metadata": {},
   "source": [
    "### Data Pre-processing for Normalizing Playtime"
   ]
  },
  {
   "cell_type": "markdown",
   "id": "cc3f340f-678f-409a-b05b-314df818b206",
   "metadata": {},
   "source": [
    "#### User Time Created\n",
    "validate_unix_dict is a helpful function to see if all unix time values are valid for the users sampled. If True, we do not need to do anything further but otherwise we would need to drop invalid time created users. There is a function in `model_functions.py` which will be helpful for filtering out invalid users, it can be used as such:\n",
    "\n",
    "~~~python\n",
    "invalid_dict = find_invalid_entries(timecreated_dict)\n",
    "valid_users = users_w_timecreated - set(map(int,invalid_dict.keys()))\n",
    "matrix_df = matrix_df.loc[list(users_w_timecreated)]\n",
    "~~~"
   ]
  },
  {
   "cell_type": "code",
   "execution_count": 14,
   "id": "6cd7a48e-af66-453f-bede-581006d3db59",
   "metadata": {},
   "outputs": [
    {
     "data": {
      "text/plain": [
       "True"
      ]
     },
     "execution_count": 14,
     "metadata": {},
     "output_type": "execute_result"
    }
   ],
   "source": [
    "validate_unix_dict(timecreated_dict)"
   ]
  },
  {
   "cell_type": "code",
   "execution_count": 15,
   "id": "28748cf5-b891-4ae8-828e-4b325776174d",
   "metadata": {},
   "outputs": [
    {
     "data": {
      "text/plain": [
       "25"
      ]
     },
     "execution_count": 15,
     "metadata": {},
     "output_type": "execute_result"
    }
   ],
   "source": [
    "latest_time = time_converter('13 Mar, 2025')\n",
    "time_since_user_dict = {\n",
    "    user: (latest_time - unix_time_converter(unix_time)).days\n",
    "    for user, unix_time in timecreated_dict.items()\n",
    "    if int(user) in users_w_timecreated\n",
    "}\n",
    "len(time_since_user_dict)"
   ]
  },
  {
   "cell_type": "code",
   "execution_count": 16,
   "id": "00c36de8-bfbf-4b9f-a6ef-a6dc99120567",
   "metadata": {},
   "outputs": [
    {
     "name": "stdout",
     "output_type": "stream",
     "text": [
      "78.40%\n"
     ]
    }
   ],
   "source": [
    "# Check the sparseness of the matrix\n",
    "print(f'{matrix_df.isna().sum().sum() / ( matrix_df.shape[0] * matrix_df.shape[1] ) *100:.2f}%')"
   ]
  },
  {
   "cell_type": "markdown",
   "id": "897dbc94-38b2-4c10-a833-a6f9d4fd9671",
   "metadata": {},
   "source": [
    "In reality matrix will be much sparser, you should expect a sparseness of ~97.5%."
   ]
  },
  {
   "cell_type": "markdown",
   "id": "22a3c645-909b-40ad-9cdb-b710d4ce0803",
   "metadata": {},
   "source": [
    "## Constructing the R Matrix"
   ]
  },
  {
   "cell_type": "code",
   "execution_count": 17,
   "id": "bbfa28c8-21ae-4046-820e-23066a2c8ea5",
   "metadata": {},
   "outputs": [],
   "source": [
    "# Create a dict to map games and users to indices of R\n",
    "user_dict = {index: i for i, index in enumerate(matrix_df.index)}\n",
    "games_dict = {index: i for i, index in enumerate(matrix_df.columns)}\n",
    "inverted_user_dict = {i: index for index, i in user_dict.items()}\n",
    "inverted_games_dict = {i: index for index, i in games_dict.items()}"
   ]
  },
  {
   "cell_type": "code",
   "execution_count": 18,
   "id": "6282e090-39d6-4703-97ab-56596de98dd1",
   "metadata": {},
   "outputs": [
    {
     "data": {
      "text/plain": [
       "(25, 100)"
      ]
     },
     "execution_count": 18,
     "metadata": {},
     "output_type": "execute_result"
    }
   ],
   "source": [
    "# Creating a copy of matrix_df in shape filled with zeroes (holds all the data)\n",
    "R = matrix_df.fillna(0).to_numpy()\n",
    "R.shape"
   ]
  },
  {
   "cell_type": "markdown",
   "id": "03e97bed-0030-4fab-bd2e-bdd893192e2b",
   "metadata": {},
   "source": [
    "## Playtime Normalization"
   ]
  },
  {
   "cell_type": "code",
   "execution_count": 19,
   "id": "920b1e42-1b63-43f3-ad7e-02bc9880f3ec",
   "metadata": {},
   "outputs": [],
   "source": [
    "R_normalized = playtime_normalization(R, matrix_df, time_since_user_dict)"
   ]
  },
  {
   "cell_type": "code",
   "execution_count": 20,
   "id": "77290c55-0103-4f17-bb61-253174991abf",
   "metadata": {},
   "outputs": [
    {
     "name": "stdout",
     "output_type": "stream",
     "text": [
      "-13.815510557964274 0.6837306902345888\n"
     ]
    }
   ],
   "source": [
    "print(np.min(R_normalized), np.max(R_normalized))"
   ]
  },
  {
   "cell_type": "code",
   "execution_count": 21,
   "id": "34c37876-8f13-44e0-9ee6-1c803cbb585b",
   "metadata": {},
   "outputs": [
    {
     "data": {
      "image/png": "[encoded data removed]",
      "text/plain": [
       "<Figure size 1000x600 with 1 Axes>"
      ]
     },
     "metadata": {},
     "output_type": "display_data"
    }
   ],
   "source": [
    "def dist_plot(R):\n",
    "    flatten_matrix = R[R != np.log(1e-6)].flatten()\n",
    "    plt.figure(figsize=(10, 6))\n",
    "    sns.histplot(flatten_matrix, kde=True, bins=30)  # KDE adds a smoothed curve over the histogram\n",
    "    plt.title('Distribution of All Elements in the Matrix')\n",
    "    plt.xlabel('Value')\n",
    "    plt.ylabel('Frequency')\n",
    "    plt.show()\n",
    "dist_plot(R_normalized)"
   ]
  },
  {
   "cell_type": "markdown",
   "id": "eb30e1f5-408e-447f-b212-91edd38b1591",
   "metadata": {},
   "source": [
    "## Training and Test Set Divide"
   ]
  },
  {
   "cell_type": "code",
   "execution_count": 22,
   "id": "554f6c3a-30d9-44c8-9116-356193da1dd8",
   "metadata": {},
   "outputs": [],
   "source": [
    "# Obtaining indices of non-empty playtime elements\n",
    "observed_playtime_elements = matrix_df.stack().index.tolist()"
   ]
  },
  {
   "cell_type": "code",
   "execution_count": 23,
   "id": "64b0a414-e28d-47ea-882c-fcf4defbf3b7",
   "metadata": {},
   "outputs": [
    {
     "name": "stdout",
     "output_type": "stream",
     "text": [
      "Train size: 510, Test size: 30\n"
     ]
    }
   ],
   "source": [
    "train_indices, test_indices = split_playtime_data(observed_playtime_elements)"
   ]
  },
  {
   "cell_type": "markdown",
   "id": "efff2269-4978-4981-8fff-b63289880d37",
   "metadata": {},
   "source": [
    "## Introducing Bias"
   ]
  },
  {
   "cell_type": "code",
   "execution_count": 24,
   "id": "4fbd3ed4-5e6b-4568-8daf-e56cf95e0075",
   "metadata": {
    "scrolled": true
   },
   "outputs": [],
   "source": [
    "mean_playtime, user_bias, game_bias = generate_bias(R_normalized, train_indices, user_dict, games_dict)"
   ]
  },
  {
   "cell_type": "markdown",
   "id": "0ea537a1-1b8c-46a1-b98a-80093695f862",
   "metadata": {},
   "source": [
    "## Initializing P and Q"
   ]
  },
  {
   "cell_type": "code",
   "execution_count": 25,
   "id": "89d272b8-797a-4246-89d2-997b62447885",
   "metadata": {},
   "outputs": [
    {
     "name": "stdout",
     "output_type": "stream",
     "text": [
      "(25, 1) (100, 1)\n"
     ]
    }
   ],
   "source": [
    "P, Q = apply_svd(R_normalized, k=1)\n",
    "print(P.shape,Q.shape)"
   ]
  },
  {
   "cell_type": "markdown",
   "id": "8438744a-67e0-4803-9d51-6303c25ba49f",
   "metadata": {},
   "source": [
    "## Stochastic Gradient Descent Algorithm"
   ]
  },
  {
   "cell_type": "code",
   "execution_count": 26,
   "id": "df415633-4444-49dd-8d3d-30a49f61bf90",
   "metadata": {
    "jupyter": {
     "source_hidden": true
    }
   },
   "outputs": [],
   "source": [
    "def SGD(R, P, Q, train_indices, user_dict, games_dict, n_epochs=100, lmbda=0.1, learning_rate=0.001,\n",
    "       mu = None, bu = None, bi = None):\n",
    "    \"\"\"\n",
    "    Stochastic Gradient Descent (SGD) for Matrix Factorization with L2 Regularization.\n",
    "    \n",
    "    Optimized for efficiency.\n",
    "    \n",
    "    Parameters:\n",
    "    - R: User-item matrix with observed playtimes.\n",
    "    - train_indices: List of (user_id, appid) pairs representing observed training data.\n",
    "    - P: User latent factor matrix.\n",
    "    - Q: Item latent factor matrix.\n",
    "    - n_epochs: Number of iterations.\n",
    "    - lmbda: L2 regularization strength.\n",
    "    - learning_rate: Step size for updates.\n",
    "    \n",
    "    Returns:\n",
    "    - Updated P, Q matrices.\n",
    "    - List of train losses for each epoch.\n",
    "    \"\"\"\n",
    "\n",
    "    if mu is None:\n",
    "        mu = np.mean(R[np.nonzero(R)])\n",
    "    if bu is None:\n",
    "        bu = np.zeros(R.shape[0])\n",
    "    if bi is None:\n",
    "        bi = np.zeros(R.shape[1])\n",
    "\n",
    "    loss = []\n",
    "\n",
    "    # Precompute index mappings to avoid repeated lookups\n",
    "    train_indices = np.array([(user_dict[user_id], games_dict[appid]) for user_id, appid in train_indices])\n",
    "\n",
    "    for e in tqdm(range(n_epochs), desc=\"Epochs\", unit=\"epoch\"):\n",
    "        total_loss = 0       \n",
    "        \n",
    "        for u, i in train_indices:\n",
    "            error = R[u, i] - ( mu + bu[u] + bi[i] + np.dot(P[u], Q[i]) )\n",
    "\n",
    "            # Compute loss efficiently (avoiding redundant norm computations)\n",
    "            total_loss += error**2 + lmbda * (np.dot(P[u], P[u]) + np.dot(Q[i], Q[i]) + bu[u]**2 + bi[i]**2)\n",
    "\n",
    "            # Update P and Q using efficient NumPy operations\n",
    "            P[u] += learning_rate * (error * Q[i] - lmbda * P[u])\n",
    "            Q[i] += learning_rate * (error * P[u] - lmbda * Q[i])\n",
    "            bu[u] += learning_rate * (error - lmbda * bu[u])\n",
    "            bi[i] += learning_rate * (error - lmbda * bi[i])\n",
    "\n",
    "        loss.append(total_loss / len(train_indices))\n",
    "    \n",
    "    return P, Q, bu, bi, loss"
   ]
  },
  {
   "cell_type": "code",
   "execution_count": 27,
   "id": "6583b010-7a66-4231-b3e7-3b24be4e5883",
   "metadata": {},
   "outputs": [
    {
     "name": "stderr",
     "output_type": "stream",
     "text": [
      "Epochs: 100%|█████████████████████████████| 100/100 [00:00<00:00, 128.38epoch/s]\n"
     ]
    }
   ],
   "source": [
    "P, Q, bu, bi, loss = SGD(R_normalized, P, Q, train_indices, user_dict, games_dict, mu = mean_playtime, bu = user_bias, bi = game_bias)"
   ]
  },
  {
   "cell_type": "code",
   "execution_count": 29,
   "id": "d6b9c435-4daa-4c8e-b478-68618740e749",
   "metadata": {
    "jupyter": {
     "source_hidden": true
    }
   },
   "outputs": [
    {
     "name": "stdout",
     "output_type": "stream",
     "text": [
      "The Final MSE = 8.117307344188639\n"
     ]
    },
    {
     "data": {
      "image/png": "[encoded data removed]",
      "text/plain": [
       "<Figure size 700x400 with 1 Axes>"
      ]
     },
     "metadata": {},
     "output_type": "display_data"
    }
   ],
   "source": [
    "def plot_error_epoch(): \n",
    "    x=range(len(loss))\n",
    "    y=loss\n",
    "    # graph\n",
    "    fig,ax1=plt.subplots(1,1,figsize=(7,4))\n",
    "    sns.scatterplot(x=x,y=y,ax=ax1)\n",
    "  \n",
    "    ax1.set_title('MSE - Epochs plot')\n",
    "    ax1.set(xlabel='Epochs',ylabel='MSE')\n",
    "\n",
    "    # the final mse\n",
    "    final_mse=min(loss)\n",
    "    print(f'The Final MSE = {final_mse}')\n",
    "\n",
    "# plot\n",
    "final_mse=plot_error_epoch()"
   ]
  },
  {
   "cell_type": "code",
   "execution_count": 30,
   "id": "5c1f84b3-f3d0-4264-874d-3f71948d5454",
   "metadata": {},
   "outputs": [],
   "source": [
    "estimated_R = reconstruct_r(P, Q)"
   ]
  },
  {
   "cell_type": "code",
   "execution_count": 31,
   "id": "116c8fc5-6a60-4fba-8cd5-99a63561cec9",
   "metadata": {},
   "outputs": [
    {
     "data": {
      "text/plain": [
       "65.67614319614161"
      ]
     },
     "execution_count": 31,
     "metadata": {},
     "output_type": "execute_result"
    }
   ],
   "source": [
    "mse(R_normalized, estimated_R, test_indices, user_dict, games_dict)"
   ]
  },
  {
   "cell_type": "markdown",
   "id": "e1256c38-8a58-4ec9-8072-b787f2706164",
   "metadata": {},
   "source": [
    "## Prediction\n",
    "The function `recommend_by_user` returns the users top 10 most played games in minutes (as the first dict) and the recommended top 20 in this case along with their normalized playtime prediction. "
   ]
  },
  {
   "cell_type": "code",
   "execution_count": 32,
   "id": "07a91526-bc9d-4fa6-9c1a-262ae3e44e23",
   "metadata": {},
   "outputs": [],
   "source": [
    "prediction_R = prediction_matrix(estimated_R, matrix_df, train_indices, test_indices, user_dict, games_dict)"
   ]
  },
  {
   "cell_type": "code",
   "execution_count": 34,
   "id": "a4dd1615-56df-4ca4-8108-bdfc75b31cd4",
   "metadata": {},
   "outputs": [
    {
     "data": {
      "text/plain": [
       "{'Path of Exile': 0.05394668625482761,\n",
       " 'ARK: Survival Evolved': 0.02617829450895285,\n",
       " 'Brawlhalla': -0.0034010913664168224,\n",
       " 'Grand Theft Auto V Legacy': -0.006919085739799489,\n",
       " 'Robocraft': -0.006977763839142184,\n",
       " 'Cities: Skylines': -0.008378676012297318,\n",
       " 'Archeblade': -0.008641054942556214,\n",
       " 'Paladins': -0.009544595934283683,\n",
       " 'Counter-Strike: Source': -0.018211885606638417,\n",
       " 'Magicka: Wizard Wars': -0.019353416528112493,\n",
       " \"Don't Starve\": -0.022276438057465566,\n",
       " 'Russian Fishing 4': -0.02299285686379554,\n",
       " 'Hacknet': -0.02462343655799263,\n",
       " 'Business Tour - Online Multiplayer Board Game': -0.02611160323331856,\n",
       " 'ARK: Survival Of The Fittest': -0.026893190261072123,\n",
       " 'Fallout 4': -0.027108172984721502,\n",
       " 'PlanetSide 2 - Test': -0.029451226360735907,\n",
       " 'Hotline Miami': -0.029681609067339822,\n",
       " 'Overcooked! 2': -0.03255271551118537,\n",
       " 'Tabletop Simulator': -0.03282188508789068}"
      ]
     },
     "execution_count": 34,
     "metadata": {},
     "output_type": "execute_result"
    }
   ],
   "source": [
    "recommend_by_user(76561198084318972, prediction_R, 20, observed_playtime_elements, appid_to_name, user_dict, games_dict)"
   ]
  },
  {
   "cell_type": "markdown",
   "id": "b012f6b8-3a6d-4b66-9bfc-041c0c5213db",
   "metadata": {},
   "source": [
    "## Importing Trained Model"
   ]
  },
  {
   "cell_type": "code",
   "execution_count": 43,
   "id": "7b9f9dfa-3fe3-4448-9b67-720bec332631",
   "metadata": {},
   "outputs": [],
   "source": [
    "# Load the variables from the pickle file\n",
    "with open('recommender_inputs.pkl', 'rb') as f:\n",
    "    loaded_data = pickle.load(f)\n",
    "\n",
    "# Access the individual variables from the loaded dictionary\n",
    "prediction_R = loaded_data['prediction_R']\n",
    "observed_playtime_elements = loaded_data['observed_playtime_elements']\n",
    "appid_to_name = loaded_data['appid_to_name']\n",
    "user_dict = loaded_data['user_dict']\n",
    "games_dict = loaded_data['games_dict']\n",
    "top_10_owned = loaded_data['top_10_owned']"
   ]
  },
  {
   "cell_type": "code",
   "execution_count": 44,
   "id": "1a49ac07-9a0e-412c-a33a-5a29b0e82034",
   "metadata": {},
   "outputs": [
    {
     "data": {
      "text/plain": [
       "{'Destiny 2': 3.6310526820638525,\n",
       " 'Warhammer 40,000: Darktide': 3.3220071656910406,\n",
       " 'Remnant II': 3.125645838291094,\n",
       " \"Marvel's Midnight Suns\": 3.112248361054699,\n",
       " 'Crusader Kings III': 3.0366999842659483,\n",
       " 'Artifact Classic': 3.01967670659118,\n",
       " 'MechWarrior 5: Mercenaries': 3.000790069554316,\n",
       " 'Empyrion - Galactic Survival': 2.9947759550816357,\n",
       " 'HUMANKIND™': 2.94300658085279,\n",
       " \"Tiny Tina's Wonderlands\": 2.940674833032602,\n",
       " 'Victoria 3': 2.9396326662188805,\n",
       " 'Lost Ark': 2.8782365122608597,\n",
       " 'Black Desert SA (Retired)': 2.8573614383184536,\n",
       " 'Naval Action': 2.839961437879285,\n",
       " 'Pathfinder: Wrath of the Righteous - Enhanced Edition': 2.7729220427988195,\n",
       " 'Coral Island': 2.770846313785582,\n",
       " 'Warframe': 2.7146277928890488,\n",
       " 'Last Oasis': 2.669510605685711,\n",
       " 'Hardspace: Shipbreaker': 2.6331036125877785,\n",
       " 'Warhammer 40,000: Chaos Gate - Daemonhunters': 2.6265226144508254}"
      ]
     },
     "execution_count": 44,
     "metadata": {},
     "output_type": "execute_result"
    }
   ],
   "source": [
    "recommend_by_user(76561198059056914, prediction_R, 20, observed_playtime_elements, appid_to_name, user_dict, games_dict)"
   ]
  },
  {
   "cell_type": "code",
   "execution_count": 45,
   "id": "37aee2d8-d8e5-4abe-977e-ae820ab51cfc",
   "metadata": {},
   "outputs": [
    {
     "data": {
      "text/plain": [
       "{'Counter-Strike 2': 127206.0,\n",
       " 'MORDHAU': 30741.0,\n",
       " 'Dota 2': 29757.0,\n",
       " \"Sid Meier's Civilization VI\": 19788.0,\n",
       " 'Deadlock': 15371.0,\n",
       " 'Slay the Spire': 11374.0,\n",
       " 'THE FINALS': 8970.0,\n",
       " 'Divinity: Original Sin 2': 8447.0,\n",
       " \"Sid Meier's Civilization V\": 8422.0,\n",
       " 'HELLDIVERS™ 2': 8268.0}"
      ]
     },
     "execution_count": 45,
     "metadata": {},
     "output_type": "execute_result"
    }
   ],
   "source": [
    "top_10_owned[76561198059056914]"
   ]
  },
  {
   "cell_type": "code",
   "execution_count": null,
   "id": "544006a0-4054-4893-9393-e11aca1c584d",
   "metadata": {},
   "outputs": [],
   "source": []
  }
 ],
 "metadata": {
  "kernelspec": {
   "display_name": "Python 3 (ipykernel)",
   "language": "python",
   "name": "python3"
  },
  "language_info": {
   "codemirror_mode": {
    "name": "ipython",
    "version": 3
   },
   "file_extension": ".py",
   "mimetype": "text/x-python",
   "name": "python",
   "nbconvert_exporter": "python",
   "pygments_lexer": "ipython3",
   "version": "3.12.2"
  }
 },
 "nbformat": 4,
 "nbformat_minor": 5
}
